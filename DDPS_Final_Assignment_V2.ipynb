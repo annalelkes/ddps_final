{
  "nbformat": 4,
  "nbformat_minor": 0,
  "metadata": {
    "colab": {
      "name": "DDPS Final Assignment_V2.ipynb",
      "provenance": []
    },
    "kernelspec": {
      "name": "python3",
      "display_name": "Python 3"
    },
    "language_info": {
      "name": "python"
    }
  },
  "cells": [
    {
      "cell_type": "code",
      "execution_count": null,
      "metadata": {
        "id": "DITEhJCdtkBV"
      },
      "outputs": [],
      "source": [
        "#Collection of Eric Zemmour's (@ZemmourEric), Marine Lepen's, Emmanuel Macron's and Jean-Luc Mélanchon's last tweets (starting on the 1st of december and ending on the 27th of march)"
      ]
    },
    {
      "cell_type": "code",
      "source": [
        "#How many times do the words associated with migration (étrangers, clandestins, migrants, immigrés, réfugiés, immigration, migration, remigration, migratoire, accueil, \"grand remplacement\") \n",
        "#appear in these lasts tweets? - Anna"
      ],
      "metadata": {
        "id": "l8HKRXemxQ32"
      },
      "execution_count": null,
      "outputs": []
    },
    {
      "cell_type": "code",
      "source": [
        "#Sentiment analysis of the tweets comprising these words (cf Course 05.01) - Anna "
      ],
      "metadata": {
        "id": "LtF04YItyHfC"
      },
      "execution_count": null,
      "outputs": []
    },
    {
      "cell_type": "code",
      "source": [
        "#Topic Modelling of the tweets comprising these words (cf Course 04.03) - Claire "
      ],
      "metadata": {
        "id": "JWCEpbVAyih8"
      },
      "execution_count": null,
      "outputs": []
    },
    {
      "cell_type": "code",
      "source": [
        "#NER: How is the topic treated? What are the places most talked about in these tweets (what type of migration is the focus of debate?) - Claire"
      ],
      "metadata": {
        "id": "ATL6bgt_0eDZ"
      },
      "execution_count": null,
      "outputs": []
    },
    {
      "cell_type": "code",
      "source": [
        "# NER: How is the topic treated? Extract and display the most frequently used adjectives in the dataset (DDPS Assignment) - Anna"
      ],
      "metadata": {
        "id": "dvNNe27l1AHX"
      },
      "execution_count": null,
      "outputs": []
    },
    {
      "cell_type": "code",
      "source": [
        "#Comparison of the importance and the way the topic of migration is treated by the main candidates to the presidential election - Anna & Claire"
      ],
      "metadata": {
        "id": "Q9Gf_FRc1tq2"
      },
      "execution_count": null,
      "outputs": []
    }
  ]
}