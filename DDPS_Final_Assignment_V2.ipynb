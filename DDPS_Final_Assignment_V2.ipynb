{
  "cells": [
    {
      "cell_type": "code",
      "execution_count": null,
      "metadata": {
        "id": "DITEhJCdtkBV"
      },
      "outputs": [],
      "source": [
        "#Collection of Eric Zemmour's (@ZemmourEric), Marine Lepen's, Emmanuel Macron's and Jean-Luc Mélanchon's last tweets (starting on the 1st of december and ending on the 27th of march)"
      ]
    },
    {
      "cell_type": "code",
      "execution_count": 16,
      "metadata": {
        "id": "l8HKRXemxQ32"
      },
      "outputs": [
        {
          "name": "stdout",
          "output_type": "stream",
          "text": [
            "Index(['query', 'id', 'timestamp_utc', 'local_time', 'user_screen_name',\n",
            "       'text', 'possibly_sensitive', 'retweet_count', 'like_count',\n",
            "       'reply_count', 'lang', 'to_username', 'to_userid', 'to_tweetid',\n",
            "       'source_name', 'source_url', 'user_location', 'lat', 'lng', 'user_id',\n",
            "       'user_name', 'user_verified', 'user_description', 'user_url',\n",
            "       'user_image', 'user_tweets', 'user_followers', 'user_friends',\n",
            "       'user_likes', 'user_lists', 'user_created_at', 'user_timestamp_utc',\n",
            "       'collected_via', 'match_query', 'retweeted_id', 'retweeted_user',\n",
            "       'retweeted_user_id', 'retweeted_timestamp_utc', 'quoted_id',\n",
            "       'quoted_user', 'quoted_user_id', 'quoted_timestamp_utc',\n",
            "       'collection_time', 'url', 'place_country_code', 'place_name',\n",
            "       'place_type', 'place_coordinates', 'links', 'domains', 'media_urls',\n",
            "       'media_files', 'media_types', 'mentioned_names', 'mentioned_ids',\n",
            "       'hashtags', 'intervention_type', 'intervention_text',\n",
            "       'intervention_url'],\n",
            "      dtype='object')\n"
          ]
        },
        {
          "data": {
            "text/plain": [
              "0       Soutien total à nos forces de l'ordre à Sevran...\n",
              "1       Écoutez mon ami Philippe de Villiers et venez ...\n",
              "2       Quelle équipe magnifique ! Merci à mes militan...\n",
              "3       Je refonderai notre université, je valoriserai...\n",
              "4       Hâte d’être demain !\\n#ZemmourTrocadero https:...\n",
              "                              ...                        \n",
              "2416    Il faut désormais présenter ses papiers d'iden...\n",
              "2417    Quelle bonne nouvelle ! Vous êtes tellement no...\n",
              "2418    Retrouvez toutes les informations sur ma candi...\n",
              "2419    Merci pour les innombrables témoignages d'émot...\n",
              "2420    J’ai un souvenir très tendre de Joséphine Bake...\n",
              "Name: text, Length: 2421, dtype: object"
            ]
          },
          "execution_count": 16,
          "metadata": {},
          "output_type": "execute_result"
        }
      ],
      "source": [
        "#How many times do the words associated with migration (étrangers, clandestins, migrants, immigrés, réfugiés, immigration, migration, remigration, migratoire, accueil, \"grand remplacement\") \n",
        "#appear in these lasts tweets? - Anna\n",
        "import pandas as pd\n",
        "import numpy as np\n",
        "#import spacy\n",
        "\n",
        "df_zemmour = pd.read_csv('tweets_zemmour.csv')\n",
        "df_lepen = pd.read_csv('tweets_lepen.csv')\n",
        "df_melenchon =pd.read_csv('tweets_melenchon.csv')\n",
        "df_macron = pd.read_csv('tweets_macron.csv')\n",
        "\n",
        "print(df_zemmour.columns)\n",
        "df_zemmour['text']\n",
        "\n",
        "\n",
        "\n"
      ]
    },
    {
      "cell_type": "code",
      "execution_count": 33,
      "metadata": {},
      "outputs": [
        {
          "name": "stdout",
          "output_type": "stream",
          "text": [
            "29\n",
            "8\n",
            "4\n",
            "0\n"
          ]
        }
      ],
      "source": [
        "def filter_fn(row, keywords): \n",
        "    for word in keywords:\n",
        "        if word in row['text']:\n",
        "            return True\n",
        "    \n",
        "    return False\n",
        "\n",
        "\n",
        "keywords = ['étrangers', 'clandestins', 'migrants', 'immigrés', 'réfugiés', 'immigration', 'migration', 'remigration', 'migratoire', 'accueil', 'grand remplacement']\n",
        "\n",
        "def filter_df(df, keys1, keys2):\n",
        "    df_filtered = df[df.apply(lambda x : filter_fn(row=x, keywords=keys1), axis = 1)]\n",
        "    df_filtered = df_filtered[df_filtered.apply(lambda x : filter_fn(row=x, keywords= keys2), axis =1)]\n",
        "    return (df_filtered.sort_values(by= 'like_count', ascending=False))\n",
        "\n",
        "\n",
        "#df_zemmour_filtered = df_zemmour[df_zemmour.apply(lambda x : filter_fn(row=x, keywords=keywords), axis = 1)]\n",
        "#df_zemmour_filtered['text']\n",
        "#df_zemmour_filtered = df_zemmour_filtered[df_zemmour_filtered.apply(lambda x : filter_fn(row=x, keywords= ['Macron']), axis =1)]\n",
        "#df_zemmour_filtered.sort_values(by= 'like_count', ascending=False)\n",
        "\n",
        "df_zemmour_filtered = filter_df(df_zemmour, keywords, ['Macron', 'Le Pen', 'Mélenchon'])\n",
        "df_lepen_filtered = filter_df(df_lepen, keywords, ['Zemmour','Macron', 'Mélenchon'])\n",
        "df_melenchon_filtered = filter_df(df_melenchon, keywords, ['Zemmour', 'Le Pen','Macron'])\n",
        "df_macron_filtered = filter_df(df_macron, keywords, ['Zemmour', 'Le Pen', 'Mélenchon'])\n",
        "\n",
        "df_list = [df_zemmour_filtered,df_lepen_filtered, df_melenchon_filtered, df_macron_filtered]\n",
        "\n",
        "for df in df_list: \n",
        "    print(len(df))\n"
      ]
    },
    {
      "cell_type": "code",
      "execution_count": null,
      "metadata": {
        "id": "LtF04YItyHfC"
      },
      "outputs": [],
      "source": [
        "#Sentiment analysis of the tweets comprising these words (cf Course 05.01) - Anna "
      ]
    },
    {
      "cell_type": "code",
      "execution_count": null,
      "metadata": {
        "id": "JWCEpbVAyih8"
      },
      "outputs": [],
      "source": [
        "#Topic Modelling of the tweets comprising these words (cf Course 04.03) - Claire "
      ]
    },
    {
      "cell_type": "code",
      "execution_count": null,
      "metadata": {
        "id": "ATL6bgt_0eDZ"
      },
      "outputs": [],
      "source": [
        "#NER: How is the topic treated? What are the places most talked about in these tweets (what type of migration is the focus of debate?) - Claire"
      ]
    },
    {
      "cell_type": "code",
      "execution_count": null,
      "metadata": {
        "id": "dvNNe27l1AHX"
      },
      "outputs": [],
      "source": [
        "# NER: How is the topic treated? Extract and display the most frequently used adjectives in the dataset (DDPS Assignment) - Anna"
      ]
    },
    {
      "cell_type": "code",
      "execution_count": null,
      "metadata": {
        "id": "Q9Gf_FRc1tq2"
      },
      "outputs": [],
      "source": [
        "#Comparison of the importance and the way the topic of migration is treated by the main candidates to the presidential election - Anna & Claire"
      ]
    }
  ],
  "metadata": {
    "colab": {
      "name": "DDPS Final Assignment_V2.ipynb",
      "provenance": []
    },
    "kernelspec": {
      "display_name": "Python 3",
      "name": "python3"
    },
    "language_info": {
      "codemirror_mode": {
        "name": "ipython",
        "version": 3
      },
      "file_extension": ".py",
      "mimetype": "text/x-python",
      "name": "python",
      "nbconvert_exporter": "python",
      "pygments_lexer": "ipython3",
      "version": "3.9.12"
    }
  },
  "nbformat": 4,
  "nbformat_minor": 0
}
